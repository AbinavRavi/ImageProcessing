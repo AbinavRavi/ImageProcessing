{
 "cells": [
  {
   "cell_type": "markdown",
   "metadata": {},
   "source": [
    "13.06.2019\n",
    "\n",
    "Image Processing in Physics\n",
    "Julia Herzen, Klaus Achterhold, Lorenz Birnbacher,\n",
    "Fabio De Marco, Manuel Schultheiß\n",
    "\n",
    "# Exercise 1: Fresnel propagation\n",
    "Perform near-field wavefront propagation.\n",
    "Check your Figures against the lecture notes!"
   ]
  },
  {
   "cell_type": "code",
   "execution_count": 1,
   "metadata": {},
   "outputs": [],
   "source": [
    "import numpy as np\n",
    "import matplotlib.pyplot as plt"
   ]
  },
  {
   "cell_type": "markdown",
   "metadata": {},
   "source": [
    "The problem: We apply a monochromatic plane wave to an object with a\n",
    "complex-valued amplitude transmission function.\n",
    "We then calculate what the \"shadow\" of the object looks like\n",
    "at certain downstream distances.\n",
    "\n",
    "Note: In this case, the TUM logo is not to be understood as a pinhole,\n",
    "but a purely-phase-shifting structure (e.g. like a piece of glass).\n",
    "\n",
    "![title](geometry_fresnel.png)"
   ]
  },
  {
   "cell_type": "markdown",
   "metadata": {},
   "source": [
    "Parameters:"
   ]
  },
  {
   "cell_type": "code",
   "execution_count": 2,
   "metadata": {},
   "outputs": [],
   "source": [
    "psize = 10e-6  # Detector pixel size: 10 micrometer\n",
    "wlen = 600e-9  # Wavelength: 600 nm (= visible light)\n",
    "prop_dist = 3e-3  # Propagation distance: 3 mm"
   ]
  },
  {
   "cell_type": "markdown",
   "metadata": {},
   "source": [
    "## 1a) Create the wavefield at $z=0$\n",
    "\n",
    "Read in test wavefield from image:"
   ]
  },
  {
   "cell_type": "code",
   "execution_count": 3,
   "metadata": {},
   "outputs": [],
   "source": [
    "img = plt.imread('tum.png')"
   ]
  },
  {
   "cell_type": "markdown",
   "metadata": {},
   "source": [
    "Sum up all channels:"
   ]
  },
  {
   "cell_type": "code",
   "execution_count": 4,
   "metadata": {},
   "outputs": [],
   "source": [
    "img = np.mean(img,axis=2)"
   ]
  },
  {
   "cell_type": "markdown",
   "metadata": {},
   "source": [
    "Scale such that the maximum value is 1 and the minimum is 0:"
   ]
  },
  {
   "cell_type": "code",
   "execution_count": null,
   "metadata": {},
   "outputs": [],
   "source": [
    "img = ??"
   ]
  },
  {
   "cell_type": "markdown",
   "metadata": {},
   "source": [
    "Generate a **pure phase wavefield** spanning from $0$ to $\\pi$ from ``img``.\n",
    "\n",
    "(I.e.: the nonzero parts of ``img`` should apply a phase shift of $\\pi$,\n",
    "the remaining part of the image should apply no phase shift.)\n",
    "\n",
    "The absolute value (magnitude) of the phase field you create should be ``1``,\n",
    "meaning that no part of `img` attenuates the beam."
   ]
  },
  {
   "cell_type": "code",
   "execution_count": null,
   "metadata": {},
   "outputs": [],
   "source": [
    "w = ??"
   ]
  },
  {
   "cell_type": "markdown",
   "metadata": {},
   "source": [
    "Have a look at the phase and magnitude of `w`:"
   ]
  },
  {
   "cell_type": "code",
   "execution_count": null,
   "metadata": {
    "scrolled": false
   },
   "outputs": [],
   "source": [
    "plt.figure(figsize=(15,8))\n",
    "plt.subplot(121)\n",
    "plt.title('Wavefront phase')\n",
    "plt.imshow(np.angle(w), cmap='gray')\n",
    "plt.colorbar()\n",
    "plt.subplot(122)\n",
    "plt.title('Wavefront magnitude')\n",
    "plt.imshow(np.abs(w), cmap='gray', vmin=.9, vmax=1.1)\n",
    "plt.colorbar()"
   ]
  },
  {
   "cell_type": "markdown",
   "metadata": {},
   "source": [
    "## 1b) Generate the Fresnel kernel\n",
    "\n",
    "Generate grids for Fourier-domain kernel:"
   ]
  },
  {
   "cell_type": "code",
   "execution_count": null,
   "metadata": {},
   "outputs": [],
   "source": [
    "u = 2. * np.pi * np.fft.fftfreq(img.shape[1], psize)\n",
    "v = 2. * np.pi * np.fft.fftfreq(img.shape[0], psize)\n",
    "\n",
    "uu, vv = np.meshgrid(u, v, indexing='xy')"
   ]
  },
  {
   "cell_type": "markdown",
   "metadata": {},
   "source": [
    "Calculate the wave number:"
   ]
  },
  {
   "cell_type": "code",
   "execution_count": null,
   "metadata": {},
   "outputs": [],
   "source": [
    "k = ??"
   ]
  },
  {
   "cell_type": "markdown",
   "metadata": {},
   "source": [
    "Generate the kernel:"
   ]
  },
  {
   "cell_type": "code",
   "execution_count": null,
   "metadata": {},
   "outputs": [],
   "source": [
    "kernel = ??"
   ]
  },
  {
   "cell_type": "markdown",
   "metadata": {},
   "source": [
    "## 1c) Calculate and examine the near-field diffraction pattern:\n",
    "\n",
    "Calculate the propagated wave array:"
   ]
  },
  {
   "cell_type": "code",
   "execution_count": null,
   "metadata": {},
   "outputs": [],
   "source": [
    "out = ??"
   ]
  },
  {
   "cell_type": "markdown",
   "metadata": {},
   "source": [
    "Plot the phase of the kernel:\n",
    "\n",
    "(We use the periodic colormap `hsv` to have a continuous transition from $-\\pi$ to $\\pi$.)"
   ]
  },
  {
   "cell_type": "code",
   "execution_count": null,
   "metadata": {},
   "outputs": [],
   "source": [
    "plt.figure(figsize=(8,8))\n",
    "plt.imshow(??, cmap='hsv', interpolation='none')\n",
    "plt.title('Fresnel kernel')\n",
    "plt.colorbar()"
   ]
  },
  {
   "cell_type": "markdown",
   "metadata": {},
   "source": [
    "Calculate the intensity from the propagated wave array:"
   ]
  },
  {
   "cell_type": "code",
   "execution_count": null,
   "metadata": {},
   "outputs": [],
   "source": [
    "I = ??"
   ]
  },
  {
   "cell_type": "markdown",
   "metadata": {},
   "source": [
    "Plot the propagated intensity (zoomed in to the center of the image):"
   ]
  },
  {
   "cell_type": "code",
   "execution_count": null,
   "metadata": {},
   "outputs": [],
   "source": [
    "plt.figure(figsize=(8,8))\n",
    "crop = 256\n",
    "plt.imshow(I[crop:-crop,crop:-crop], cmap='gray')\n",
    "plt.title('Intensity')\n",
    "plt.colorbar()"
   ]
  },
  {
   "cell_type": "markdown",
   "metadata": {},
   "source": [
    "# Exercise 2: Fraunhofer propagation\n",
    "\n",
    "Generate a \"speckle pattern\" from an atmospheric phase screen using Fraunhofer propagation.\n",
    "\n",
    "We would like to model the setup shown below:\n",
    "\n",
    "![title](geometry_fraunhofer.png)\n",
    "\n",
    "Atmospheric disturbances introduce random phase variations to (initially undisturbed) wavefronts.\n",
    "These are then detected in an optical instrument consisting of an aperture and a converging lens.\n",
    "We would like to simulate the resultant image in the focal plane of the lens."
   ]
  },
  {
   "cell_type": "markdown",
   "metadata": {},
   "source": [
    "Define relevant parameters:"
   ]
  },
  {
   "cell_type": "code",
   "execution_count": null,
   "metadata": {},
   "outputs": [],
   "source": [
    "N = 1024  # Square dimension of phase screen\n",
    "radius = 128  # Radius of the circular aperture in pixels"
   ]
  },
  {
   "cell_type": "markdown",
   "metadata": {},
   "source": [
    "Generate an NxN array of zeros for the aperture:"
   ]
  },
  {
   "cell_type": "code",
   "execution_count": null,
   "metadata": {},
   "outputs": [],
   "source": [
    "aperture = ??"
   ]
  },
  {
   "cell_type": "markdown",
   "metadata": {},
   "source": [
    "Fill `aperture` with the transmission function of a circular aperture of radius `radius`:\n",
    "\n",
    "Transmission should be `1` within the aperture, and `0` outside.\n",
    "\n",
    "Functions of interest include: `np.meshgrid`, `np.linspace`, `np.arange` ...\n",
    "\n",
    "Hint: In cartesian coordinates $(x,y)$, a circle of radius $r$\n",
    "centered around the origin $(x_0, y_0)$ is given by: $(x-x_0)^2 + (y-y_0)^2 = r^2$."
   ]
  },
  {
   "cell_type": "code",
   "execution_count": null,
   "metadata": {},
   "outputs": [],
   "source": [
    "aperture = ??"
   ]
  },
  {
   "cell_type": "markdown",
   "metadata": {},
   "source": [
    "Plot your aperture function:"
   ]
  },
  {
   "cell_type": "code",
   "execution_count": null,
   "metadata": {},
   "outputs": [],
   "source": [
    "plt.figure(figsize=(8,8))\n",
    "plt.imshow(aperture, cmap='gray')\n",
    "plt.colorbar()"
   ]
  },
  {
   "cell_type": "markdown",
   "metadata": {},
   "source": [
    "Load in the wavefront phase screen and plot it:"
   ]
  },
  {
   "cell_type": "code",
   "execution_count": null,
   "metadata": {},
   "outputs": [],
   "source": [
    "screen = np.loadtxt('wavefront.txt')\n",
    "plt.figure(figsize=(8,8))\n",
    "plt.imshow(screen, cmap='jet', interpolation='none')\n",
    "plt.colorbar()"
   ]
  },
  {
   "cell_type": "markdown",
   "metadata": {},
   "source": [
    "Propagate the phase screen from the aperture to the focal plane using Fraunhofer propagation.\n",
    "\n",
    "Hints:\n",
    "\n",
    "* `aperture` is the magnitude, and `screen` is the phase.\n",
    "* Fraunhofer propagation: Wave at focal plane is FT of wave at aperture plane\n",
    "* You may need to use an `np.fft.fftshift` here!\n",
    "* Intensity is the absolute value of field at the focal plane squared"
   ]
  },
  {
   "cell_type": "code",
   "execution_count": null,
   "metadata": {},
   "outputs": [],
   "source": [
    "speckle = ??"
   ]
  },
  {
   "cell_type": "markdown",
   "metadata": {},
   "source": [
    "Show the far-field propagation image.\n",
    "Near the center of the image, speckle patterns should be visible.\n",
    "\n",
    "Crop the center of the image to see more details!"
   ]
  },
  {
   "cell_type": "code",
   "execution_count": null,
   "metadata": {},
   "outputs": [],
   "source": [
    "plt.figure(figsize=(8,8))\n",
    "plt.title('Detected intensity')\n",
    "crop = 300\n",
    "plt.imshow(speckle[crop:-crop, crop:-crop], cmap='gray')\n",
    "plt.colorbar()"
   ]
  }
 ],
 "metadata": {
  "kernelspec": {
   "display_name": "Python 3",
   "language": "python",
   "name": "python3"
  },
  "language_info": {
   "codemirror_mode": {
    "name": "ipython",
    "version": 3
   },
   "file_extension": ".py",
   "mimetype": "text/x-python",
   "name": "python",
   "nbconvert_exporter": "python",
   "pygments_lexer": "ipython3",
   "version": "3.6.8"
  }
 },
 "nbformat": 4,
 "nbformat_minor": 2
}
