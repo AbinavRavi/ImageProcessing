{
 "cells": [
  {
   "cell_type": "markdown",
   "metadata": {},
   "source": [
    "# Tomographic Reconstruction 1, Exercise 1\n",
    "## Filtered Backprojection\n",
    "11.07.2019, \n",
    "Image Processing Physics TU Muenchen, \n",
    "Julia Herzen, Klaus Achterhold, (Fabio De Marco, Manuel Schultheiss)\n"
   ]
  },
  {
   "cell_type": "markdown",
   "metadata": {},
   "source": [
    "This exercise will be about a very simplified implementation of tomographic\n",
    "reconstruction, using filtered backprojection.\n",
    "\n",
    "The exercise consists of three parts:\n",
    "First, you will simulate the data aquisistion in computed tomography, by\n",
    "calculating the sinogram from a given input sample slice.\n",
    "Second, you will have to apply a ramp filter to this sinogram.\n",
    "Third, you will implement a simple backprojection algorithm.\n",
    "\n",
    "If you do not manage to do one part of the exercise you can still go on by\n",
    "loading the provided .npy arrays 'sino_backup.npy' and\n",
    "'filtered_sino_backup.npy'.\n",
    "\n",
    "You need to replace the ??? in the code with the required commands."
   ]
  },
  {
   "cell_type": "code",
   "execution_count": null,
   "metadata": {},
   "outputs": [],
   "source": [
    "import numpy as np\n",
    "import scipy.ndimage as nd\n",
    "import matplotlib.pyplot as plt\n",
    "import sys"
   ]
  },
  {
   "cell_type": "code",
   "execution_count": null,
   "metadata": {},
   "outputs": [],
   "source": [
    "def forwardproject(sample, angles):\n",
    "    \"\"\"\n",
    "    Simulate data aquisition in tomography from line projections.\n",
    "    Forwardproject a given input sample slice to obtain a simulated sinogram.\n",
    "\n",
    "    Hints\n",
    "    -----\n",
    "    Use scipy.ndimage.rotate(..., reshape=False) to simulate the sample\n",
    "    rotation.\n",
    "    Use numpy.sum() along one axis to simulate the line projection integral.\n",
    "    \"\"\"\n",
    "    sh = np.shape(sample)                # calculate shape of sample\n",
    "    Nproj = len(angles)                  # calculate number of projections\n",
    "\n",
    "    # define empty sinogram container, angles along y-axis\n",
    "    sinogram = np.zeros((Nproj, sh[1]))\n",
    "\n",
    "    for proj in np.arange(Nproj):  # loop over all projections\n",
    "        sys.stdout.write(\"\\r Simulating:     %03i/%i\" % (proj+1, Nproj))\n",
    "        sys.stdout.flush()\n",
    "        im_rot = ???\n",
    "        sinogram[???] = ???\n",
    "    return sinogram\n",
    "\n",
    "\n",
    "def filter_ramlak(sinogram):\n",
    "    \"\"\"\n",
    "    Filter a given sinogram using a ramp filter\n",
    "\n",
    "    Hints:\n",
    "    First define a ramp filter in Fourier domain (you can use np.fft.fftfreq).\n",
    "    Filter the sinogram in Fourier space using the convolution theorem.\n",
    "    \"\"\"\n",
    "\n",
    "    Nproj, Npix = np.shape(sinogram)\n",
    "\n",
    "    # Generate basic ramp filter (hint: there is the function np.fft.fftfreq.\n",
    "    # Try it and see what it does. Watch out for a possible fftshift)\n",
    "    ramp_filter = ???\n",
    "\n",
    "    # filter the sinogram in Fourier space in detector pixel direction\n",
    "    # Use the np.fft.fft along the axis=1\n",
    "    sino_ft = ???\n",
    "\n",
    "    # Multiply the ramp filter onto the 1D-FT of the sinogram and transform it\n",
    "    # back into spatial domain\n",
    "    sino_filtered = ???\n",
    "\n",
    "    return sino_filtered\n",
    "\n",
    "\n",
    "def backproject(sinogram, angles):\n",
    "    \"\"\"\n",
    "    Backproject a given sinogram.\n",
    "    Hints:\n",
    "    Perform the backprojection inversely to the way we did the\n",
    "    forwardprojection, by smearing each projection in the sinogram back along\n",
    "    the axis that you summed before in forwardproject(),\n",
    "    then rotating the resulting backprojection\n",
    "    to get the right backprojection angle.\n",
    "    Use scipy.ndimage.rotate(...,...,reshape=False)\n",
    "    \"\"\"\n",
    "    # calculate number of projections, and pixels\n",
    "    Nproj, Npix = np.shape(sinogram)\n",
    "    # define empty container for reconstruction of sample\n",
    "    reconstruction = np.zeros((Npix, Npix))\n",
    "\n",
    "    for proj in np.arange(Nproj):  # loop over all projections\n",
    "        sys.stdout.write(\"\\r Reconstructing: %03i/%i\" % (proj+1, Nproj))\n",
    "        sys.stdout.flush()\n",
    "\n",
    "        backprojection = np.tile(sinogram[proj, :], (Npix, 1))\n",
    "        backprojection /= Npix  # Just normalization\n",
    "        rotated_backprojection = ???\n",
    "\n",
    "        # Add the rotated backprojection\n",
    "        reconstruction += ???\n",
    "\n",
    "    return reconstruction"
   ]
  },
  {
   "cell_type": "markdown",
   "metadata": {},
   "source": [
    "## Part 1: Forward and Backprojection\n",
    "Read in sample data (in reality, this data is unknown and what you are\n",
    "looking for)"
   ]
  },
  {
   "cell_type": "code",
   "execution_count": null,
   "metadata": {},
   "outputs": [],
   "source": [
    "sample = plt.imread('Head_CT_scan.jpg')"
   ]
  },
  {
   "cell_type": "markdown",
   "metadata": {},
   "source": [
    "Define vector containing the projection angles"
   ]
  },
  {
   "cell_type": "code",
   "execution_count": null,
   "metadata": {},
   "outputs": [],
   "source": [
    "Nangles = 301\n",
    "angles = ???"
   ]
  },
  {
   "cell_type": "markdown",
   "metadata": {},
   "source": [
    "Simulate the process of tomographic data acquisition by line projections"
   ]
  },
  {
   "cell_type": "code",
   "execution_count": null,
   "metadata": {},
   "outputs": [],
   "source": [
    "sino = ???\n",
    "\n",
    "# use this line if you do not manage the last step\n",
    "# sino = np.load('sino_backup.npy')\n",
    "\n",
    "# filter the sinogram with the ramp filter (or some other filter)\n",
    "filtered_sino = ???\n",
    "\n",
    "# use this line if you do not manage the last step\n",
    "# filtered_sino = np.load('filtered_sino_backup.npy')"
   ]
  },
  {
   "cell_type": "markdown",
   "metadata": {},
   "source": [
    "Reconstruct the image from its filtered sinogram\n"
   ]
  },
  {
   "cell_type": "code",
   "execution_count": null,
   "metadata": {},
   "outputs": [],
   "source": [
    "reco = ???"
   ]
  },
  {
   "cell_type": "code",
   "execution_count": null,
   "metadata": {},
   "outputs": [],
   "source": [
    "plt.figure(1, figsize=(12, 12))\n",
    "plt.subplot(2, 2, 1)\n",
    "plt.imshow(sample, cmap='gray', interpolation='none')\n",
    "plt.subplot(2, 2, 2)\n",
    "plt.imshow(sino, cmap='gray', interpolation='none')\n",
    "plt.subplot(2, 2, 3)\n",
    "plt.imshow(filtered_sino, cmap='gray', interpolation='none')\n",
    "plt.subplot(2, 2, 4)\n",
    "plt.imshow(reco, vmin=0., cmap='gray', interpolation='none')"
   ]
  },
  {
   "cell_type": "markdown",
   "metadata": {},
   "source": [
    "## Part 2: Image Artifacts"
   ]
  },
  {
   "cell_type": "markdown",
   "metadata": {},
   "source": [
    "### Artifact 1 - Hot / Dead Pixel\n",
    "Single pixels on detector may not respond to x-rays. This results in reconstruction artifacts."
   ]
  },
  {
   "cell_type": "code",
   "execution_count": null,
   "metadata": {},
   "outputs": [],
   "source": [
    "Nangles = 301\n",
    "angles = np.linspace(0, 360, Nangles, False)\n",
    "\n",
    "sino = forwardproject(sample, angles)\n",
    "\n",
    "# simulate a dead pixel in the detector line\n",
    "sino[???] = 0\n",
    "\n",
    "# filter the sinogram with the ramp filter and reconstruct it\n",
    "filtered_sino = filter_ramlak(sino)\n",
    "reco = backproject(filtered_sino, angles)\n",
    "\n",
    "plt.figure(2, figsize=(12, 12))\n",
    "plt.suptitle('dead pixel')\n",
    "plt.subplot(2, 2, 1)\n",
    "plt.imshow(sample, cmap='gray', interpolation='none')\n",
    "plt.subplot(2, 2, 2)\n",
    "plt.imshow(sino, cmap='gray', interpolation='none')\n",
    "plt.subplot(2, 2, 3)\n",
    "plt.imshow(filtered_sino, cmap='gray', interpolation='none')\n",
    "plt.subplot(2, 2, 4)\n",
    "plt.imshow(reco, vmin=sample.min(), vmax=sample.max(),\n",
    "           cmap='gray', interpolation='none')"
   ]
  },
  {
   "cell_type": "markdown",
   "metadata": {},
   "source": [
    "### Artifact 2 - Simulate a center shift\n",
    "Intrinsically, tomography assumes that the rotation axis is in the center of\n",
    "each projection. If this is not the case, each projection is shifted left or\n",
    "right with respect to the optical axis. These are called center shift."
   ]
  },
  {
   "cell_type": "code",
   "execution_count": null,
   "metadata": {},
   "outputs": [],
   "source": [
    "Nangles = 301\n",
    "angles = np.linspace(0, 360, Nangles, False)\n",
    "\n",
    "sino = forwardproject(sample, angles)\n",
    "\n",
    "# shift the sinogram by a few pixels (~2) or pad the detector either to the\n",
    "# left or right side.\n",
    "sino = ???\n",
    "\n",
    "# filter the sinogram with the ramp filter and reconstruct it\n",
    "filtered_sino = filter_sino(sino)\n",
    "reco = backproject(filtered_sino, angles)\n",
    "\n",
    "plt.figure(3, figsize=(12, 12))\n",
    "plt.suptitle('center shift')\n",
    "plt.subplot(2, 2, 1)\n",
    "plt.imshow(sample, cmap='gray', interpolation='none')\n",
    "plt.subplot(2, 2, 2)\n",
    "plt.imshow(sino, cmap='gray', interpolation='none')\n",
    "plt.subplot(2, 2, 3)\n",
    "plt.imshow(filtered_sino, cmap='gray', interpolation='none')\n",
    "plt.subplot(2, 2, 4)\n",
    "plt.imshow(reco, vmin=0, cmap='gray', interpolation='none')"
   ]
  },
  {
   "cell_type": "markdown",
   "metadata": {},
   "source": [
    "## Artifact 3 - few angles / undersampling\n",
    "When using fewer projections than usual, the image quality decreases. "
   ]
  },
  {
   "cell_type": "code",
   "execution_count": null,
   "metadata": {},
   "outputs": [],
   "source": [
    "Nangles = ???\n",
    "angles = np.linspace(0, 360, Nangles, False)\n",
    "\n",
    "sino = forwardproject(sample, angles)\n",
    "\n",
    "# filter the sinogram with the ramp filter and reconstruct it\n",
    "filtered_sino = filter_ramlak(sino)\n",
    "reco = backproject(filtered_sino, angles)\n",
    "\n",
    "plt.figure(4, figsize=(12, 12))\n",
    "plt.suptitle('undersampling')\n",
    "plt.subplot(2, 2, 1)\n",
    "plt.imshow(sample, cmap='gray', interpolation='none')\n",
    "plt.subplot(2, 2, 2)\n",
    "plt.imshow(sino, cmap='gray', interpolation='none')\n",
    "plt.subplot(2, 2, 3)\n",
    "plt.imshow(filtered_sino, cmap='gray', interpolation='none')\n",
    "plt.subplot(2, 2, 4)\n",
    "plt.imshow(reco, vmin=0., cmap='gray', interpolation='none')"
   ]
  },
  {
   "cell_type": "markdown",
   "metadata": {},
   "source": [
    "## Artifact 4 - missing projections to tomosynthese\n",
    "Replace the first 100 projections with zeros."
   ]
  },
  {
   "cell_type": "code",
   "execution_count": null,
   "metadata": {},
   "outputs": [],
   "source": [
    "Nangles = 301\n",
    "angles = np.linspace(0, 180, Nangles, False)\n",
    "\n",
    "sino = forwardproject(sample, angles)\n",
    "\n",
    "# simulate one or more missing projections (e.g. replace with zeros) up to a\n",
    "# missing projection wedge\n",
    "sino[???] = 0\n",
    "\n",
    "# filter the sinogram with the ramp filter and reconstruct it\n",
    "filtered_sino = filter_ramlak(sino)\n",
    "reco = backproject(filtered_sino, angles)\n",
    "\n",
    "plt.figure(5, figsize=(12, 12))\n",
    "plt.suptitle('missing projections')\n",
    "plt.subplot(2, 2, 1)\n",
    "plt.imshow(sample, cmap='gray', interpolation='none')\n",
    "plt.subplot(2, 2, 2)\n",
    "plt.imshow(sino, cmap='gray', interpolation='none')\n",
    "plt.subplot(2, 2, 3)\n",
    "plt.imshow(filtered_sino, cmap='gray', interpolation='none')\n",
    "plt.subplot(2, 2, 4)\n",
    "plt.imshow(reco, vmin=0., cmap='gray', interpolation='none')"
   ]
  },
  {
   "cell_type": "markdown",
   "metadata": {},
   "source": [
    "## Artifact 5 - Noise\n",
    "Add some noise to the projections/sinogram."
   ]
  },
  {
   "cell_type": "code",
   "execution_count": null,
   "metadata": {},
   "outputs": [],
   "source": [
    "Nangles = 301\n",
    "angles = np.linspace(0, 360, Nangles, False)\n",
    "\n",
    "sino = forwardproject(sample, angles)\n",
    "\n",
    "# simulate noise\n",
    "sino += ???\n",
    "\n",
    "# filter the sinogram with the ramp filter and reconstruct it\n",
    "filtered_sino = filter_ramlak(sino)\n",
    "reco = backproject(filtered_sino, angles)\n",
    "\n",
    "plt.figure(6, figsize=(12, 12))\n",
    "plt.suptitle('noise')\n",
    "plt.subplot(2, 2, 1)\n",
    "plt.imshow(sample, cmap='gray', interpolation='none')\n",
    "plt.subplot(2, 2, 2)\n",
    "plt.imshow(sino, cmap='gray', interpolation='none')\n",
    "plt.subplot(2, 2, 3)\n",
    "plt.imshow(filtered_sino, cmap='gray', interpolation='none')\n",
    "plt.subplot(2, 2, 4)\n",
    "plt.imshow(reco, vmin=0, cmap='gray', interpolation='none')"
   ]
  }
 ],
 "metadata": {
  "kernelspec": {
   "display_name": "Python 3",
   "language": "python",
   "name": "python3"
  },
  "language_info": {
   "codemirror_mode": {
    "name": "ipython",
    "version": 3
   },
   "file_extension": ".py",
   "mimetype": "text/x-python",
   "name": "python",
   "nbconvert_exporter": "python",
   "pygments_lexer": "ipython3",
   "version": "3.6.7"
  }
 },
 "nbformat": 4,
 "nbformat_minor": 2
}
