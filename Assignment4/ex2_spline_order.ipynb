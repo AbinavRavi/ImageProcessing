{
 "cells": [
  {
   "cell_type": "markdown",
   "metadata": {},
   "source": [
    "# Homework 4, Exercise 2\n",
    "*Julia Herzen, Klaus Achterhold, Fabio De Marco, Manuel Schultheiss*\n",
    "\n",
    "May 16 2019\n",
    "## Spline Order\n",
    "\n",
    "The goal of this exercise is to look at the results of different orders of spline interpolation. \n",
    "\n",
    "For simplicity, we will use the `scipy.ndimage.rotate` function to rotate an image.\n",
    "The function uses a special case of affine transform, where the re-gridding and interpolation steps are performed automatically. It accepts the `order` parameter, which may take integers between 0 and 5. These correspond to different interpolation methods.\n",
    "\n",
    "You need to replace the `??` in the code with the required commands."
   ]
  },
  {
   "cell_type": "code",
   "execution_count": null,
   "metadata": {},
   "outputs": [],
   "source": [
    "%matplotlib inline"
   ]
  },
  {
   "cell_type": "code",
   "execution_count": null,
   "metadata": {},
   "outputs": [],
   "source": [
    "import numpy as np\n",
    "import matplotlib.pyplot as plt\n",
    "import scipy.ndimage as nd\n",
    "\n",
    "from ipywidgets import interact\n",
    "import ipywidgets as widgets"
   ]
  },
  {
   "cell_type": "markdown",
   "metadata": {},
   "source": [
    "* Load the 'baboon.png' image,\n",
    "* Average all color channels,\n",
    "* normalize the maximum value to 1:"
   ]
  },
  {
   "cell_type": "code",
   "execution_count": null,
   "metadata": {},
   "outputs": [],
   "source": [
    "img = plt.imread('baboon.png')\n",
    "img = ??\n",
    "sh = np.shape(img)"
   ]
  },
  {
   "cell_type": "code",
   "execution_count": null,
   "metadata": {},
   "outputs": [],
   "source": [
    "plt.figure(1, figsize=(7,7))\n",
    "plt.imshow(img, cmap='gray')"
   ]
  },
  {
   "cell_type": "markdown",
   "metadata": {},
   "source": [
    "Crop the image to e.g. $200 \\times 200$ pixels while **focusing on fine structures**!"
   ]
  },
  {
   "cell_type": "code",
   "execution_count": null,
   "metadata": {},
   "outputs": [],
   "source": [
    "img_cropped = img[??]\n",
    "plt.figure(2)\n",
    "plt.imshow(img_cropped, cmap='gray')"
   ]
  },
  {
   "cell_type": "markdown",
   "metadata": {},
   "source": [
    "We will look at:\n",
    "* Nearest-neighbor interpolation (`order = 0`)\n",
    "* Bilinear interpolation (`order = 1`)\n",
    "* Biquadratic interpolation (`order = 2`)\n",
    "* Bicubic interpolation (`order = 3`)\n",
    "* Order-5 (\"biquintic\"?) interpolation (`order = 5`)\n",
    "\n",
    "For each method, we will save the interpolated images (one for each angle) in a list:"
   ]
  },
  {
   "cell_type": "code",
   "execution_count": null,
   "metadata": {},
   "outputs": [],
   "source": [
    "img_order0 = []\n",
    "img_order1 = []\n",
    "img_order2 = []\n",
    "img_order3 = []\n",
    "img_order5 = []"
   ]
  },
  {
   "cell_type": "markdown",
   "metadata": {},
   "source": [
    "Define an equidistant range of angles between 0 and 360 degrees. Do not repeat the 0-th angle at the end ($0^{\\circ} = 360^{\\circ}$).\n",
    "\n",
    "Please choose a multiple of 4 for the number of angles."
   ]
  },
  {
   "cell_type": "code",
   "execution_count": null,
   "metadata": {},
   "outputs": [],
   "source": [
    "Nsteps = ??\n",
    "angles = ??"
   ]
  },
  {
   "cell_type": "markdown",
   "metadata": {},
   "source": [
    "Now, apply the rotation for each angle and each interpolation order.\n",
    "Ensure that the **shape of the image is not changed** (remember exercise 1)!"
   ]
  },
  {
   "cell_type": "code",
   "execution_count": null,
   "metadata": {},
   "outputs": [],
   "source": [
    "for angle in angles:\n",
    "    img_order0.append(nd.rotate(??))\n",
    "    img_order1.append(??)\n",
    "    # ... and so on for all five lists."
   ]
  },
  {
   "cell_type": "markdown",
   "metadata": {},
   "source": [
    "Define a function which takes the parameter `step` and plots the `step`-th image of all five interpolation methods in a $2 \\times 3$ grid (you'll have to leave one grid element empty of course):"
   ]
  },
  {
   "cell_type": "code",
   "execution_count": null,
   "metadata": {},
   "outputs": [],
   "source": [
    "def show_all_orders(step):\n",
    "    plt.figure(3, figsize=(15,10))\n",
    "    plt.subplot(2,3,1); plt.title('Nearest-neighbor interpolation')\n",
    "    plt.imshow(??, cmap='gray')\n",
    "    plt.subplot(2,3,2); plt.title('Bilinear interpolation')\n",
    "    # ... and so on for all five variants."
   ]
  },
  {
   "cell_type": "markdown",
   "metadata": {},
   "source": [
    "In IPython Notebook, we can use a slider to go manually go through the images:\n",
    "\n",
    "(while the slider is highlighted, you can also use the arrow keys)"
   ]
  },
  {
   "cell_type": "code",
   "execution_count": null,
   "metadata": {
    "scrolled": true
   },
   "outputs": [],
   "source": [
    "interact(show_all_orders, step=widgets.IntSlider(min=0,max=20,step=1,value=0));"
   ]
  },
  {
   "cell_type": "markdown",
   "metadata": {},
   "source": [
    "**Questions to consider:**\n",
    "\n",
    "* Which features are noticeably different in the different methods? Why?\n",
    "* For some special angles, all methods produce the same result. Why?"
   ]
  },
  {
   "cell_type": "markdown",
   "metadata": {},
   "source": [
    "**BONUS TASK:** To focus on the differences between the methods, repeat the above with a new function, showing the difference with respect to the next smaller order (i.e. order 1 minus order 0, order 2 minus order 1, etc.). This means of course that a 2x2 grid is sufficient.\n",
    "\n",
    "Optionally, to allow comparing the magnitude of the differences, fix the scale of imshow with the keywords `vmin`, `vmax`."
   ]
  },
  {
   "cell_type": "code",
   "execution_count": null,
   "metadata": {},
   "outputs": [],
   "source": [
    "def show_differences(step):\n",
    "    opts = dict(cmap='gray')\n",
    "    plt.figure(4, figsize=(10,10))\n",
    "    plt.subplot(2,2,1); plt.title('order 1 - order 0')\n",
    "    plt.imshow(??, **opts)\n",
    "    # ... and so on for all four differences."
   ]
  },
  {
   "cell_type": "code",
   "execution_count": null,
   "metadata": {},
   "outputs": [],
   "source": [
    "interact(show_differences, step=widgets.IntSlider(min=0,max=20,step=1,value=0));"
   ]
  },
  {
   "cell_type": "markdown",
   "metadata": {},
   "source": [
    "Optionally, modify `show_differences` such that the scale of all images is fixed to the range $[-0.3, 0.3]$ (consider the `vmin`, `vmax` keywords.\n",
    "\n",
    "What differences do you notice?"
   ]
  },
  {
   "cell_type": "code",
   "execution_count": null,
   "metadata": {},
   "outputs": [],
   "source": [
    "def show_differences2(step):\n",
    "    opts = dict(cmap='gray', ??)\n",
    "    plt.figure(4, figsize=(10,10))\n",
    "    plt.subplot(2,2,1); plt.title('order 1 - order 0')\n",
    "    plt.imshow(??, **opts)\n",
    "    # ... and so on for all four differences."
   ]
  },
  {
   "cell_type": "code",
   "execution_count": null,
   "metadata": {},
   "outputs": [],
   "source": [
    "interact(show_differences2, step=widgets.IntSlider(min=0,max=20,step=1,value=0));"
   ]
  }
 ],
 "metadata": {
  "kernelspec": {
   "display_name": "Python 3",
   "language": "python",
   "name": "python3"
  },
  "language_info": {
   "codemirror_mode": {
    "name": "ipython",
    "version": 3
   },
   "file_extension": ".py",
   "mimetype": "text/x-python",
   "name": "python",
   "nbconvert_exporter": "python",
   "pygments_lexer": "ipython3",
   "version": "3.6.7"
  }
 },
 "nbformat": 4,
 "nbformat_minor": 2
}
