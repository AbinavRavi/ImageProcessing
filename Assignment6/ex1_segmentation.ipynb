{
 "cells": [
  {
   "cell_type": "markdown",
   "metadata": {},
   "source": [
    "05.06.2019\n",
    "\n",
    "Image Processing Physics\n",
    "\n",
    "Julia Herzen, Klaus Achterhold, (Lorenz Hehn, Sebastian Allner)\n",
    "\n",
    "#  Segmentation: Counting stars\n",
    "\n",
    "Today's question:\n",
    "* How many stars are there in a particular image of the night sky?\n",
    "* What are their apparent sizes?\n",
    "\n",
    "Applied methods:\n",
    "* Binary thresholding\n",
    "* Morphological operations (opening, closing)\n",
    "* Labeling and analysis of labeling results"
   ]
  },
  {
   "cell_type": "markdown",
   "metadata": {},
   "source": [
    "## a) Preliminaries"
   ]
  },
  {
   "cell_type": "code",
   "execution_count": null,
   "metadata": {},
   "outputs": [],
   "source": [
    "import numpy as np\n",
    "import matplotlib.pyplot as plt\n",
    "import scipy.ndimage as nd"
   ]
  },
  {
   "cell_type": "code",
   "execution_count": null,
   "metadata": {},
   "outputs": [],
   "source": [
    "plt.rcParams['figure.figsize'] = (14, 8)"
   ]
  },
  {
   "cell_type": "markdown",
   "metadata": {},
   "source": [
    "Load the stars image:"
   ]
  },
  {
   "cell_type": "code",
   "execution_count": null,
   "metadata": {},
   "outputs": [],
   "source": [
    "img = plt.imread('stars.jpg')"
   ]
  },
  {
   "cell_type": "markdown",
   "metadata": {},
   "source": [
    "* Sum up all color channels to get a grayscale image.\n",
    "* Sum or average along axis 2\n",
    "* Rescale the final image to [0.0, 1.0]"
   ]
  },
  {
   "cell_type": "code",
   "execution_count": null,
   "metadata": {},
   "outputs": [],
   "source": [
    "img = ??"
   ]
  },
  {
   "cell_type": "markdown",
   "metadata": {},
   "source": [
    "**Expert question:** Compare the data types of ``img`` and the version of ``img`` that was summed-up along axis 2.\n",
    "\n",
    "(Determine the datatype of array ``a`` with ``a.dtype()``).\n",
    "\n",
    "* What does the output mean?\n",
    "* Why is it necessary that a different data type is used for the summed-up array? What could happen if the same data type was used?\n",
    "* Why is it also reasonable to use a different data type when ``np.mean`` is applied instead of ``np.sum``?"
   ]
  },
  {
   "cell_type": "code",
   "execution_count": null,
   "metadata": {},
   "outputs": [],
   "source": []
  },
  {
   "cell_type": "markdown",
   "metadata": {},
   "source": []
  },
  {
   "cell_type": "markdown",
   "metadata": {},
   "source": [
    "Look at the normalized image using ``plt.imshow``. Use the ``vmin`` and ``vmax`` parameters!"
   ]
  },
  {
   "cell_type": "code",
   "execution_count": null,
   "metadata": {},
   "outputs": [],
   "source": [
    "plt.figure(1)\n",
    "plt.title('Original image')\n",
    "plt.imshow(img, cmap='gray', interpolation='none', vmin=??, vmax=??)\n",
    "plt.colorbar()"
   ]
  },
  {
   "cell_type": "markdown",
   "metadata": {},
   "source": [
    "## b) Thresholding"
   ]
  },
  {
   "cell_type": "markdown",
   "metadata": {},
   "source": [
    "Determine a threshold value that separates the stars from the background.\n",
    "\n",
    "Apply binary thresholding with different values until you find a value that separates all stars from the background.\n",
    "\n",
    "\n",
    "\n",
    "**Note:** Set the sign such that the stars have the value ``True`` or ``1``.\n",
    "This is important for the order of applied morphological operations:\n",
    "If the thresholding is such that the star areas are ``False``, the order of\n",
    "binary closing and opening must be interchanged!"
   ]
  },
  {
   "cell_type": "code",
   "execution_count": null,
   "metadata": {},
   "outputs": [],
   "source": [
    "threshold = ??\n",
    "img_thr = ??"
   ]
  },
  {
   "cell_type": "code",
   "execution_count": null,
   "metadata": {},
   "outputs": [],
   "source": [
    "plt.figure(2)\n",
    "plt.title('Binary thresholding')\n",
    "plt.imshow(img_thr, cmap='gray', interpolation='none')"
   ]
  },
  {
   "cell_type": "markdown",
   "metadata": {},
   "source": [
    "## c) Morphological operations\n",
    "\n",
    "**Apply opening and closing** to this binary image to join \"fuzzy\" areas around stars:"
   ]
  },
  {
   "cell_type": "markdown",
   "metadata": {},
   "source": [
    "### c.1) Closing\n",
    "\n",
    "\"Closing\" is supposed to mean that \"holes\" (pixels with value 0) are closed.\n",
    "\n",
    "In other words, the \"non-holes\" (regions with values 1) grow in size by\n",
    "applying the kernel on each pixel with value 1."
   ]
  },
  {
   "cell_type": "code",
   "execution_count": null,
   "metadata": {},
   "outputs": [],
   "source": [
    "kernel_closing = np.array([[??, ??, ??], [??, ??, ??], [??, ??, ??]])\n",
    "img_thr_cl = nd.binary_closing(img_thr, structure=kernel_closing)"
   ]
  },
  {
   "cell_type": "code",
   "execution_count": null,
   "metadata": {},
   "outputs": [],
   "source": [
    "plt.figure(3)\n",
    "plt.title('Applied binary closing')\n",
    "plt.imshow(img_thr_cl, cmap='gray', interpolation='none')"
   ]
  },
  {
   "cell_type": "markdown",
   "metadata": {},
   "source": [
    "### c.2) Opening\n",
    "\n",
    "Remove isolated pixels around the moon by opening with an appropriate kernel\n",
    "\n",
    "(suggestion: A kernel where only two adjacent pixels are set to `1` eliminates single pixels with value 1!)"
   ]
  },
  {
   "cell_type": "code",
   "execution_count": null,
   "metadata": {},
   "outputs": [],
   "source": [
    "kernel_opening = np.array(??)\n",
    "img_thr_cl_op = nd.binary_opening(img_thr_cl, structure=kernel_opening)"
   ]
  },
  {
   "cell_type": "code",
   "execution_count": null,
   "metadata": {},
   "outputs": [],
   "source": [
    "plt.figure(4)\n",
    "plt.title('Applied closing, then opening')\n",
    "plt.imshow(img_thr_cl_op, cmap='gray', interpolation='none')"
   ]
  },
  {
   "cell_type": "markdown",
   "metadata": {},
   "source": [
    "### c.3) \"Fine-tuning\"\n",
    "\n",
    "Play around with all the morphological options in the `scipy.ndimage` (`nd`)\n",
    "package to increase the quality of the segmentation (if still needed):"
   ]
  },
  {
   "cell_type": "code",
   "execution_count": null,
   "metadata": {},
   "outputs": [],
   "source": [
    "kernel3 = np.array([[???, ???, ???], [???, ???, ???], [???, ???, ???]])\n",
    "img_final = nd.binary_???(img_thr_cl_op, structure=kernel3)\n",
    "# ... and potentially additional operations"
   ]
  },
  {
   "cell_type": "code",
   "execution_count": null,
   "metadata": {},
   "outputs": [],
   "source": [
    "plt.figure(5)\n",
    "plt.title('Final segmentation')\n",
    "plt.imshow(img_final, cmap='gray', interpolation='none')"
   ]
  },
  {
   "cell_type": "markdown",
   "metadata": {},
   "source": [
    "## d) Check if you lost any stars!\n",
    "\n",
    "There are 2 possible issues:\n",
    "1. Stars were not recognized (false negatives)\n",
    "2. Noise or artifacts were incorrectly identified as stars (false positives)\n",
    "\n",
    "Checking for case 1 can e.g. be done by applying the inverted star mask to the original image.\n",
    "Any bright spots in the resulting image may indicate a failure of masking that particular star.\n",
    "\n",
    "Case 2 works exactly the other way around: masking the original image with the determined star\n",
    "mask and identifying anything that doesn't look like a star. It helps to compare it with the\n",
    "original, unmasked image, and use a lower values for `vmax` so that noise is more apparent.\n",
    "\n",
    "You may have to zoom in for details, hence we change the backend to use \"regular\"\n",
    "in individual windows.\n",
    "\n",
    "If you get a lot of false negatives or positives, modify the parameters in c)!"
   ]
  },
  {
   "cell_type": "code",
   "execution_count": null,
   "metadata": {},
   "outputs": [],
   "source": [
    "#%matplotlib notebook  # you can try this too, but it's not as great...\n",
    "%matplotlib qt"
   ]
  },
  {
   "cell_type": "code",
   "execution_count": null,
   "metadata": {},
   "outputs": [],
   "source": [
    "opts = dict(cmap='gray', vmin=0.)\n",
    "f, [ax1, ax2, ax3] = plt.subplots(1, 3, sharex=True, sharey=True, figsize=(10,5))\n",
    "ax1.imshow(~img_thr_cl_op * img, vmax=1., **opts)\n",
    "ax1.set_title('False negatives:\\nUndetected stars show up\\nhere as bright spots')\n",
    "\n",
    "ax2.imshow(img_thr_cl_op, vmax=.1, **opts)\n",
    "ax2.set_title('Only real stars (no noise)\\nshould show up here')\n",
    "\n",
    "ax3.imshow(img, vmax=.1, **opts)\n",
    "ax3.set_title('Original image')\n",
    "\n",
    "f.tight_layout()"
   ]
  },
  {
   "cell_type": "markdown",
   "metadata": {},
   "source": [
    "## e) Labeling and analysis of results\n",
    "Once you're done, **label your image** with ``nd.label``! This \"labels\" contiguous areas in a binary image with value 1 (i.e., the individual masked stars). The output of the function is an image where every pixel in a contiguous region is assigned a serial number."
   ]
  },
  {
   "cell_type": "markdown",
   "metadata": {},
   "source": [
    "Go back to inline plotting:"
   ]
  },
  {
   "cell_type": "code",
   "execution_count": null,
   "metadata": {},
   "outputs": [],
   "source": [
    "%matplotlib inline\n",
    "plt.rcParams['figure.figsize'] = (14, 8)"
   ]
  },
  {
   "cell_type": "code",
   "execution_count": null,
   "metadata": {},
   "outputs": [],
   "source": [
    "img_lbld, N = nd.label(??)"
   ]
  },
  {
   "cell_type": "markdown",
   "metadata": {},
   "source": [
    "Question: **What is `N`**? Check with the documentation of `nd.label`!"
   ]
  },
  {
   "cell_type": "code",
   "execution_count": null,
   "metadata": {},
   "outputs": [],
   "source": [
    "plt.figure(7)\n",
    "plt.imshow(img_lbld, cmap='jet', interpolation='none')\n",
    "plt.colorbar()"
   ]
  },
  {
   "cell_type": "markdown",
   "metadata": {},
   "source": [
    "Use nd.find_objects to return a list of slices through the image for each star:"
   ]
  },
  {
   "cell_type": "code",
   "execution_count": null,
   "metadata": {},
   "outputs": [],
   "source": [
    "slice_list = nd.find_objects(img_lbld)"
   ]
  },
  {
   "cell_type": "markdown",
   "metadata": {},
   "source": [
    "Note: A **slice object** is a slicing operation which exists\n",
    "independently of an array. So instead of writing\n",
    "\n",
    "    B = A[100:200, 100:200]\n",
    "    \n",
    "you could also write:\n",
    "\n",
    "    s = (slice(100, 200, None), slice(100, 200, None))\n",
    "    B = A[s]\n",
    "\n",
    "or even shorter:\n",
    "\n",
    "    s = np.s_[100:200, 100:200]\n",
    "    B = A[s]\n",
    "\n",
    "One advantage is of course that you could apply identical\n",
    "slicing to different arrays:\n",
    "\n",
    "    s = np.s_[100:200, 100:200]\n",
    "    B = A[s]\n",
    "    C = D[s]\n",
    "\n",
    "For a labelled image the function `nd.find_objects` returns a list of such slices `s`,\n",
    "the n-th slice defining rectangle around the n-th labelled object (i.e., the n-th star)."
   ]
  },
  {
   "cell_type": "code",
   "execution_count": null,
   "metadata": {},
   "outputs": [],
   "source": [
    "starnum = ??\n",
    "\n",
    "plt.figure(8)\n",
    "plt.title(\"Star %i\" % starnum)\n",
    "plt.imshow(img[slice_list[starnum]], cmap='gray', interpolation='none')"
   ]
  },
  {
   "cell_type": "markdown",
   "metadata": {},
   "source": [
    "Remaining task: Sum up each individual star to get a list of star sizes and\n",
    "make a detailed histogram (>100 bins). Take care to exclude the moon! This\n",
    "can be done by sorting the star sizes list and removing the last element\n",
    "\n",
    "Remember: The slice object ``slice_list[<number>]`` selects one star (either\n",
    "from the original `img` or the segmented image `img_final`).\n",
    "Create a list of boolean star images (star_list).\n",
    "Afterwards, sum their extent up (take care about the datatypes)\n",
    "to get their sizes and sort the list."
   ]
  },
  {
   "cell_type": "code",
   "execution_count": null,
   "metadata": {},
   "outputs": [],
   "source": [
    "star_list = [?? for slc in slice_list]\n",
    "mass_list = [?? for star in star_list]\n",
    "mass_list_sorted = ??\n",
    "mass_list_without_moon = ??"
   ]
  },
  {
   "cell_type": "markdown",
   "metadata": {},
   "source": [
    "Note: List comprehensions are a shorter way of writing for loops.\n",
    "\n",
    "    output = [do_thing(x) for x in list]\n",
    "\n",
    "does the same as:\n",
    "\n",
    "    output = []\n",
    "    for x in list:\n",
    "        output.append(do_thing(x))"
   ]
  },
  {
   "cell_type": "code",
   "execution_count": null,
   "metadata": {},
   "outputs": [],
   "source": [
    "plt.figure(9)\n",
    "plt.title(\"Sizes of stars\")\n",
    "plt.hist(??);"
   ]
  },
  {
   "cell_type": "code",
   "execution_count": null,
   "metadata": {},
   "outputs": [],
   "source": []
  }
 ],
 "metadata": {
  "kernelspec": {
   "display_name": "Python 3",
   "language": "python",
   "name": "python3"
  },
  "language_info": {
   "codemirror_mode": {
    "name": "ipython",
    "version": 3
   },
   "file_extension": ".py",
   "mimetype": "text/x-python",
   "name": "python",
   "nbconvert_exporter": "python",
   "pygments_lexer": "ipython3",
   "version": "3.6.7"
  }
 },
 "nbformat": 4,
 "nbformat_minor": 2
}
