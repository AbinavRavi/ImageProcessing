{
 "cells": [
  {
   "cell_type": "markdown",
   "metadata": {},
   "source": [
    "6.6.2019\n",
    "\n",
    "### Image Processing in Physics\n",
    "#### Julia Herzen, Klaus Achterhold, Fabio De Marco, Manuel Schultheiß"
   ]
  },
  {
   "cell_type": "markdown",
   "metadata": {},
   "source": [
    "# Exercise 6, Task 2: Connected Components\n",
    "Have you ever woundered how a battery looks inside?\n",
    "This exercise will answer all your urgent quesions!\n",
    "\n",
    "As batteries are produced on a large scale nowadays, non-destructive testing to maintain battery safety can be performed by computed tomography, for example (Further information not needed to solve the exercise: https://www.nature.com/articles/ncomms7924).\n",
    "We performed a CT scan of a 9V block battery for you and your task is to segment the battery cells using a connected component algorithm and thresholding. Afterwards you determine the median and mean intensity for each battery cell and plot them.\n",
    "\n",
    "Please note you need to install scikit image to solve this exercise (https://scikit-image.org/docs/dev/install.html)."
   ]
  },
  {
   "cell_type": "code",
   "execution_count": null,
   "metadata": {},
   "outputs": [],
   "source": [
    "%matplotlib inline\n",
    "\n",
    "import numpy as np\n",
    "import matplotlib.pyplot as plt\n",
    "from ipywidgets import interactive\n",
    "from skimage.measure import label, regionprops\n",
    "\n",
    "# Load a CT scan of a battery\n",
    "battery = np.load(\"battery.npy\")[:, ::2, ::2]"
   ]
  },
  {
   "cell_type": "markdown",
   "metadata": {},
   "source": [
    "**Task 1: Min-Max Normlization: **\n",
    "First we want to normalize the intensity values to a $[0, 1]$ range (e.g. the highest value in the array should be 1 and the lowest value should be 0).\n",
    "\n",
    "In the original CT scan, the intesities may also have negative values such as -2. Use `battery.min()` and `battery.max()` to find the minimum and maximum.  Mathematically, from each voxel $v_i$ the minimum instensity of the whole scan is subtracted and afterwards it is divided by the intensity range:\n",
    "\n",
    "\n",
    "$$\\mathrm{v}_i=\\frac{\\mathrm{v}_i-\\min(\\mathrm{battery})}{\\max(\\mathrm{battery})-\\min(\\mathrm{battery})}$$"
   ]
  },
  {
   "cell_type": "code",
   "execution_count": null,
   "metadata": {
    "scrolled": true
   },
   "outputs": [],
   "source": [
    "battery = ???"
   ]
  },
  {
   "cell_type": "markdown",
   "metadata": {},
   "source": [
    "Some assertion code to ensure everything was implemented correctely:"
   ]
  },
  {
   "cell_type": "code",
   "execution_count": null,
   "metadata": {},
   "outputs": [],
   "source": [
    "assert battery.max()==1 and battery.min()==0"
   ]
  },
  {
   "cell_type": "markdown",
   "metadata": {},
   "source": [
    "The following function displays a 3D scan for you, where you can inspect the slice stack by using a slider."
   ]
  },
  {
   "cell_type": "code",
   "execution_count": null,
   "metadata": {},
   "outputs": [],
   "source": [
    "def show_ct(ctscan, colors=False):\n",
    "    def f( ct_slice_index):\n",
    "        fig, ax=plt.subplots(dpi=200)\n",
    "        ax.imshow(ctscan[ct_slice_index], cmap=\"gray\" if not colors else \"viridis\",   vmin=0, vmax=1)\n",
    "\n",
    "    interactive_plot = interactive(f, ct_slice_index=(0,9))\n",
    "    output = interactive_plot.children[-1]\n",
    "    display(interactive_plot)\n",
    "           \n",
    "show_ct(battery)"
   ]
  },
  {
   "cell_type": "markdown",
   "metadata": {},
   "source": [
    "**Task 2: Binary Thresholding** Your task is to threshold the scan to a value above 0.42. `thresholded_battery` battery should contain `True` for values > 0.42 and `False` for other voxels.\n",
    "\n",
    "    "
   ]
  },
  {
   "cell_type": "code",
   "execution_count": null,
   "metadata": {},
   "outputs": [],
   "source": [
    "thresholded_battery = ???\n",
    "show_ct(thresholded_battery.astype(np.int32))"
   ]
  },
  {
   "cell_type": "markdown",
   "metadata": {},
   "source": [
    "**Task 3: Connected components ** Use the label function from skimage to assign an unique integer value to each connected group of voxels"
   ]
  },
  {
   "cell_type": "code",
   "execution_count": null,
   "metadata": {},
   "outputs": [],
   "source": [
    "label_image =  ???"
   ]
  },
  {
   "cell_type": "markdown",
   "metadata": {},
   "source": [
    "We can inspect the result using our `plt.imshow` function for the 4th slice:"
   ]
  },
  {
   "cell_type": "code",
   "execution_count": null,
   "metadata": {},
   "outputs": [],
   "source": [
    "plt.imshow(label_image[3])"
   ]
  },
  {
   "cell_type": "markdown",
   "metadata": {},
   "source": [
    "**Task 4: Extract Battery Cells: **  Battery cells in our scan have between 4000 and 6000 voxels. Add the `region.bbox` property of regions with a voxel count within that range to the list `regions`. You can access the voxel count of each connected component using `region.area`."
   ]
  },
  {
   "cell_type": "code",
   "execution_count": null,
   "metadata": {},
   "outputs": [],
   "source": [
    "regions = []\n",
    "\n",
    "for region in regionprops(label_image):\n",
    "    if region.area >= ??? and region.area < ???: # ???\n",
    "        regions.append(region.bbox)"
   ]
  },
  {
   "cell_type": "markdown",
   "metadata": {},
   "source": [
    "Next we want to show each battery cell. This helper function will return a subvolume when providing a battery cell number."
   ]
  },
  {
   "cell_type": "code",
   "execution_count": null,
   "metadata": {},
   "outputs": [],
   "source": [
    "def get_cell(cell_index):\n",
    "    \"\"\"\n",
    "        Args: \n",
    "            cell_index: The cell number. Can be 1,2,3,4,5 or 6\n",
    "    \"\"\"\n",
    "    \n",
    "    start_dim0 = regions[cell_index][0]\n",
    "    end_dim0 =  regions[cell_index][3]\n",
    "    \n",
    "    start_dim1 = regions[cell_index][1]\n",
    "    end_dim1 =  regions[cell_index][4]\n",
    "    \n",
    "    start_dim2 = regions[cell_index][2]\n",
    "    end_dim2 =  regions[cell_index][5]\n",
    "    \n",
    "    return battery[start_dim0:end_dim0,start_dim1:end_dim1,start_dim2:end_dim2]"
   ]
  },
  {
   "cell_type": "code",
   "execution_count": null,
   "metadata": {},
   "outputs": [],
   "source": [
    "# Show the 3D volume of cell 1\n",
    "show_ct(get_cell(1))"
   ]
  },
  {
   "cell_type": "markdown",
   "metadata": {},
   "source": [
    "**Task 5: Plot Median and Mean **  \n",
    "Next, we want to extract mean intensity and maximum intensity for each cell and plot it into a scatterplot. Hereby, we create a colormap first. Your task is to extract the mean and median intensity from each slice in each cell (Consequently you need to have 48 values for mean and median each, as there are 6 cells with 8 slices each). Plot these values using a scatterplot, wherby the x-axis defines the mean instensiy and the y-axis defines the median intensity."
   ]
  },
  {
   "cell_type": "code",
   "execution_count": null,
   "metadata": {},
   "outputs": [],
   "source": [
    "import matplotlib.cm as cm\n",
    "colormap = cm.rainbow(np.linspace(0, 1, 6)) \n",
    "\n",
    "means = []\n",
    "medians = []\n",
    "colors = []\n",
    "\n",
    "for cell in range(0,6):\n",
    "    for slice_index in range(1,9): # We do not use the first and the last slice\n",
    "        means.append(???) \n",
    "        medians.append(???)\n",
    "        colors.append(colormap[cell])\n",
    "\n",
    "\n",
    "plt.title(\"Battery Features\")\n",
    "plt.xlabel(\"Mean Intensity\")\n",
    "plt.ylabel(\"Median Intensity\")\n",
    "\n",
    "plt.scatter(means, medians, color=colors)\n",
    "plt.show()"
   ]
  },
  {
   "cell_type": "code",
   "execution_count": null,
   "metadata": {},
   "outputs": [],
   "source": []
  },
  {
   "cell_type": "code",
   "execution_count": null,
   "metadata": {},
   "outputs": [],
   "source": []
  },
  {
   "cell_type": "code",
   "execution_count": null,
   "metadata": {},
   "outputs": [],
   "source": []
  },
  {
   "cell_type": "code",
   "execution_count": null,
   "metadata": {},
   "outputs": [],
   "source": []
  },
  {
   "cell_type": "code",
   "execution_count": null,
   "metadata": {},
   "outputs": [],
   "source": []
  }
 ],
 "metadata": {
  "kernelspec": {
   "display_name": "Python 3",
   "language": "python",
   "name": "python3"
  },
  "language_info": {
   "codemirror_mode": {
    "name": "ipython",
    "version": 3
   },
   "file_extension": ".py",
   "mimetype": "text/x-python",
   "name": "python",
   "nbconvert_exporter": "python",
   "pygments_lexer": "ipython3",
   "version": "3.6.7"
  }
 },
 "nbformat": 4,
 "nbformat_minor": 2
}
